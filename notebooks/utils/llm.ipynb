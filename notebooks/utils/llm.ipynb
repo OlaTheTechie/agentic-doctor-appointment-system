{
 "cells": [
  {
   "cell_type": "code",
   "execution_count": 7,
   "id": "2c15fb00",
   "metadata": {},
   "outputs": [],
   "source": [
    "from dotenv import load_dotenv\n",
    "load_dotenv()\n",
    "from langchain_groq import ChatGroq\n",
    "\n"
   ]
  },
  {
   "cell_type": "code",
   "execution_count": 11,
   "id": "5582039e",
   "metadata": {},
   "outputs": [],
   "source": [
    "class LLM: \n",
    "    def __init__(self, model_name=\"openai/gpt-oss-120b\"): \n",
    "        if not model_name: \n",
    "            raise ValueError(\"model name is not defined\")\n",
    "        self.model_name = model_name\n",
    "        self.gpt_model = ChatGroq(model=self.model_name)\n",
    "\n",
    "    def get_model(self): \n",
    "        return self.gpt_model"
   ]
  },
  {
   "cell_type": "code",
   "execution_count": 12,
   "id": "f527d8a7",
   "metadata": {},
   "outputs": [],
   "source": [
    "llm_instance = LLM()\n",
    "llm_model = llm_instance.get_model()"
   ]
  },
  {
   "cell_type": "code",
   "execution_count": 13,
   "id": "47777314",
   "metadata": {},
   "outputs": [
    {
     "data": {
      "text/plain": [
       "AIMessage(content='Hello! How can I assist you today?', additional_kwargs={'reasoning_content': 'The user says \"Hi\". We need to respond appropriately. There\\'s no policy violation. Just greet and ask how can help.'}, response_metadata={'token_usage': {'completion_tokens': 44, 'prompt_tokens': 72, 'total_tokens': 116, 'completion_time': 0.093711722, 'prompt_time': 0.003439578, 'queue_time': 0.086228078, 'total_time': 0.0971513}, 'model_name': 'openai/gpt-oss-120b', 'system_fingerprint': 'fp_3a688838c3', 'service_tier': 'on_demand', 'finish_reason': 'stop', 'logprobs': None}, id='run--9be9ecbd-b86f-40cc-a651-641d5a010ebe-0', usage_metadata={'input_tokens': 72, 'output_tokens': 44, 'total_tokens': 116})"
      ]
     },
     "execution_count": 13,
     "metadata": {},
     "output_type": "execute_result"
    }
   ],
   "source": [
    "llm_model.invoke(\"Hi\")"
   ]
  }
 ],
 "metadata": {
  "kernelspec": {
   "display_name": "doctors-appointment-agent-py3.10",
   "language": "python",
   "name": "python3"
  },
  "language_info": {
   "codemirror_mode": {
    "name": "ipython",
    "version": 3
   },
   "file_extension": ".py",
   "mimetype": "text/x-python",
   "name": "python",
   "nbconvert_exporter": "python",
   "pygments_lexer": "ipython3",
   "version": "3.10.12"
  }
 },
 "nbformat": 4,
 "nbformat_minor": 5
}
