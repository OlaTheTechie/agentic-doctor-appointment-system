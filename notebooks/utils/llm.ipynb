{
 "cells": [
  {
   "cell_type": "code",
   "execution_count": 1,
   "id": "2c15fb00",
   "metadata": {},
   "outputs": [],
   "source": [
    "from dotenv import load_dotenv\n",
    "load_dotenv()\n",
    "from langchain_groq import ChatGroq\n",
    "\n"
   ]
  },
  {
   "cell_type": "code",
   "execution_count": 2,
   "id": "5582039e",
   "metadata": {},
   "outputs": [],
   "source": [
    "class LLM: \n",
    "    def __init__(self, model_name=\"gpt-4o\"): \n",
    "        if not model_name: \n",
    "            raise ValueError(\"model name is not defined\")\n",
    "        self.model_name = model_name\n",
    "        self.gpt_model = ChatGroq(model=self.model_name)\n",
    "\n",
    "    def get_model(self): \n",
    "        return self.gpt_model"
   ]
  },
  {
   "cell_type": "code",
   "execution_count": 4,
   "id": "f527d8a7",
   "metadata": {},
   "outputs": [
    {
     "data": {
      "text/plain": [
       "ChatGroq(client=<groq.resources.chat.completions.Completions object at 0x7a4e8c31ffa0>, async_client=<groq.resources.chat.completions.AsyncCompletions object at 0x7a4e7c378820>, model_name='gpt-4o', model_kwargs={}, groq_api_key=SecretStr('**********'))"
      ]
     },
     "execution_count": 4,
     "metadata": {},
     "output_type": "execute_result"
    }
   ],
   "source": [
    "llm = LLM()\n",
    "llm.get_model()"
   ]
  }
 ],
 "metadata": {
  "kernelspec": {
   "display_name": "doctors-appointment-agent-py3.10",
   "language": "python",
   "name": "python3"
  },
  "language_info": {
   "codemirror_mode": {
    "name": "ipython",
    "version": 3
   },
   "file_extension": ".py",
   "mimetype": "text/x-python",
   "name": "python",
   "nbconvert_exporter": "python",
   "pygments_lexer": "ipython3",
   "version": "3.10.12"
  }
 },
 "nbformat": 4,
 "nbformat_minor": 5
}
