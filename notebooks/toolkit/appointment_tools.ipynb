{
 "cells": [
  {
   "cell_type": "code",
   "execution_count": 4,
   "id": "7e67ee4f",
   "metadata": {},
   "outputs": [],
   "source": [
    "import pandas as pd \n",
    "import numpy as np \n",
    "from typing import Literal\n",
    "from langchain_core.tools import tool \n",
    "import os\n",
    "from src.models.data_models import * "
   ]
  },
  {
   "cell_type": "code",
   "execution_count": 2,
   "id": "9c414567",
   "metadata": {},
   "outputs": [
    {
     "name": "stdout",
     "output_type": "stream",
     "text": [
      "/home/oladimeji/Desktop/projects/doctors-appointment-agent/notebooks/toolkit\n"
     ]
    }
   ],
   "source": [
    "!pwd"
   ]
  },
  {
   "cell_type": "code",
   "execution_count": 3,
   "id": "fe1a11eb",
   "metadata": {},
   "outputs": [],
   "source": [
    "os.chdir(\"/home/oladimeji/Desktop/projects/doctors-appointment-agent/\")"
   ]
  },
  {
   "cell_type": "code",
   "execution_count": null,
   "id": "fdc8753e",
   "metadata": {},
   "outputs": [],
   "source": [
    "def set_appointment(\n",
    "    desired_date: DateTime\n",
    ")"
   ]
  }
 ],
 "metadata": {
  "kernelspec": {
   "display_name": "doctors-appointment-agent-py3.10",
   "language": "python",
   "name": "python3"
  },
  "language_info": {
   "codemirror_mode": {
    "name": "ipython",
    "version": 3
   },
   "file_extension": ".py",
   "mimetype": "text/x-python",
   "name": "python",
   "nbconvert_exporter": "python",
   "pygments_lexer": "ipython3",
   "version": "3.10.12"
  }
 },
 "nbformat": 4,
 "nbformat_minor": 5
}
