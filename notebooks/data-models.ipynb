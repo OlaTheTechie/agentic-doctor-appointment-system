{
 "cells": [
  {
   "cell_type": "code",
   "execution_count": 11,
   "id": "c49bd9f8",
   "metadata": {},
   "outputs": [],
   "source": [
    "from pydantic import BaseModel, Field, field_validator\n",
    "import re"
   ]
  },
  {
   "cell_type": "code",
   "execution_count": 12,
   "id": "c51a869c",
   "metadata": {},
   "outputs": [],
   "source": [
    "class DateTimeModel(BaseModel): \n",
    "    date: str = Field(\n",
    "        description=\"properly formatted date\", \n",
    "        pattern=r'^\\d{2}-\\d{2}-\\d{4} \\d{2}:\\d{2}$'\n",
    "    )\n",
    "\n",
    "    @field_validator(\"date\")\n",
    "    def check_date_format(cls, v): \n",
    "        if not re.match(r'^\\d{2}-\\d{2}-\\d{4} \\d{2}:\\d{2}$', v): \n",
    "            raise ValueError(\"The date should be in format 'DD-MM-YYYY HH:MM'\")\n",
    "        return v"
   ]
  },
  {
   "cell_type": "code",
   "execution_count": 13,
   "id": "a2b78c51",
   "metadata": {},
   "outputs": [],
   "source": [
    "class DateModel(BaseModel): \n",
    "    date: str = Field(\n",
    "        description=\"properly formatted date\", \n",
    "        pattern=r'^\\d{2}-\\d{2}-\\d{4}$'\n",
    "    )\n",
    "\n",
    "    @field_validator(\"date\")\n",
    "    def check_date_format(cls, v): \n",
    "        if not re.match(r'^\\d{2}-\\d{2}-\\d{4}$', v): \n",
    "            raise ValueError(\"the date must be in this format 'DD-MM-YYY'\")\n",
    "        return v"
   ]
  },
  {
   "cell_type": "code",
   "execution_count": 14,
   "id": "6ef0665d",
   "metadata": {},
   "outputs": [],
   "source": [
    "class IDNumberModel(BaseModel): \n",
    "    id: int = Field(\n",
    "        description=\"identification number (7 or 8 digits long)\", \n",
    "    )\n",
    "\n",
    "    @field_validator(\"id\")\n",
    "    def check_id_format(cls, v): \n",
    "        if not re.match(r'^\\d{7, 8}$', str(v)):\n",
    "            raise ValueError(\"the ID number should be a 7 or 8 digit number\")\n",
    "        return v"
   ]
  }
 ],
 "metadata": {
  "kernelspec": {
   "display_name": "doctors-appointment-agent-py3.10",
   "language": "python",
   "name": "python3"
  },
  "language_info": {
   "codemirror_mode": {
    "name": "ipython",
    "version": 3
   },
   "file_extension": ".py",
   "mimetype": "text/x-python",
   "name": "python",
   "nbconvert_exporter": "python",
   "pygments_lexer": "ipython3",
   "version": "3.10.12"
  }
 },
 "nbformat": 4,
 "nbformat_minor": 5
}
